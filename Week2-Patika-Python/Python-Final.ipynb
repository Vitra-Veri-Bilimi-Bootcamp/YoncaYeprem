{
 "cells": [
  {
   "cell_type": "markdown",
   "metadata": {},
   "source": [
    "### Patika Python Eğitiminin Final Ödevi"
   ]
  },
  {
   "cell_type": "markdown",
   "metadata": {},
   "source": [
    "#### 1.Soru"
   ]
  },
  {
   "cell_type": "markdown",
   "metadata": {},
   "source": [
    "Bir listeyi düzleştiren (flatten) fonksiyon yazın. Elemanları birden çok katmanlı listtlerden ([[3],2] gibi) oluşabileceği gibi, non-scalar verilerden de oluşabilir. Örnek olarak:\n",
    "\n",
    "input: [[1,'a',['cat'],2],[[[3]],'dog'],4,5]\n",
    "\n",
    "output: [1,'a','cat',2,3,'dog',4,5]"
   ]
  },
  {
   "cell_type": "markdown",
   "metadata": {},
   "source": [
    "#### Çözüm"
   ]
  },
  {
   "cell_type": "markdown",
   "metadata": {},
   "source": [
    "* En son hali oluşturmak için boş bir list oluşturulur.\n",
    "* Girdi olan liste alınır.\n",
    "* Listenin her bir elemanına ulaşmak için for döngüsü açılırç\n",
    "* Listenin içindeki elemanlar yine bir liste ise recursive fonksiyon olarak ana fonksiyona geri döndürülür.\n",
    "* Liste içinde liste eleman kalmayana kadar devam edilir.\n",
    "* Liste olmayan eleman yeni listeye eklenir."
   ]
  },
  {
   "cell_type": "code",
   "execution_count": 1,
   "metadata": {},
   "outputs": [],
   "source": [
    "flattenList =[]\n",
    "def flatten(liste):\n",
    "    for i in liste:\n",
    "        if(type(i)==list):\n",
    "            flatten(i)\n",
    "        else:\n",
    "            flattenList.append(i)\n",
    "    return flattenList"
   ]
  },
  {
   "cell_type": "code",
   "execution_count": 2,
   "metadata": {},
   "outputs": [
    {
     "name": "stdout",
     "output_type": "stream",
     "text": [
      "[1, 'a', 'cat', 2, 3, 'dog', 4, 5]\n"
     ]
    }
   ],
   "source": [
    "print(flatten([[1,'a',['cat'],2],[[[3]],'dog'],4,5]))"
   ]
  },
  {
   "cell_type": "markdown",
   "metadata": {},
   "source": [
    "#### 2.Soru"
   ]
  },
  {
   "cell_type": "markdown",
   "metadata": {},
   "source": [
    "Verilen listenin içindeki elemanları tersine döndüren bir fonksiyon yazın. Eğer listenin içindeki elemanlar da liste içeriyorsa onların elemanlarını da tersine döndürün. Örnek olarak:\n",
    "\n",
    "input: [[1, 2], [3, 4], [5, 6, 7]]\n",
    "\n",
    "output: [[[7, 6, 5], [4, 3], [2, 1]]"
   ]
  },
  {
   "cell_type": "markdown",
   "metadata": {},
   "source": [
    "#### Çözüm"
   ]
  },
  {
   "cell_type": "markdown",
   "metadata": {},
   "source": [
    "* Yeni bir list yapısı oluşturulur.\n",
    "* Girdi olarak alınan listenin her bir elemanına for yapısı ile ulaşılır.\n",
    "* Eğer list içindeki bir eleman da list ise o list ters çevrilir.\n",
    "* List içinde ki yapıya tekrar bakılıp aynı ters döndürme işlemi yapılır.\n",
    "* List yapısının son olarak ters dönmüş halleri yeni list yapısına eklenir.\n",
    "* Eğer list yapısında olmayan bir eleman olursa direk olarak yeni list yapısına eklenir\n",
    "* En son elemanlar bittikten sonra tüm list yapısı ters çevrilir.\n"
   ]
  },
  {
   "cell_type": "code",
   "execution_count": 69,
   "metadata": {},
   "outputs": [],
   "source": [
    "reversedList =[]\n",
    "def reverseAll(liste):\n",
    "    for i in liste:\n",
    "        if (type(i)==list):\n",
    "            i.reverse()\n",
    "            for e in i:\n",
    "                if (type(e)==list):\n",
    "                    e.reverse()     \n",
    "            reversedList.append(i) \n",
    "        else:\n",
    "            reversedList.append(i) \n",
    "    reversedList.reverse() \n",
    "    return reversedList\n"
   ]
  },
  {
   "cell_type": "code",
   "execution_count": 66,
   "metadata": {},
   "outputs": [
    {
     "name": "stdout",
     "output_type": "stream",
     "text": [
      "[[7, 6, 5], [4, 3], [2, 1]]\n"
     ]
    }
   ],
   "source": [
    "print(reverseAll([[1, 2], [3, 4], [5, 6, 7]]))"
   ]
  },
  {
   "cell_type": "code",
   "execution_count": 70,
   "metadata": {},
   "outputs": [
    {
     "name": "stdout",
     "output_type": "stream",
     "text": [
      "[5, 4, ['dog', [[3]]], [2, [7, 'john'], 'yonca', 1]]\n"
     ]
    }
   ],
   "source": [
    "print(reverseAll([[1,'yonca',['john',7],2],[[[3]],'dog'],4,5]))"
   ]
  }
 ],
 "metadata": {
  "kernelspec": {
   "display_name": "Python 3",
   "language": "python",
   "name": "python3"
  },
  "language_info": {
   "codemirror_mode": {
    "name": "ipython",
    "version": 3
   },
   "file_extension": ".py",
   "mimetype": "text/x-python",
   "name": "python",
   "nbconvert_exporter": "python",
   "pygments_lexer": "ipython3",
   "version": "3.7.8"
  }
 },
 "nbformat": 4,
 "nbformat_minor": 4
}
