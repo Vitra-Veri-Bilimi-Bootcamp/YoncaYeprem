{
 "cells": [
  {
   "cell_type": "markdown",
   "metadata": {},
   "source": [
    "# Makine Öğrenmesine Giriş Ve Karar Ağaçları"
   ]
  },
  {
   "cell_type": "markdown",
   "metadata": {},
   "source": [
    "### İçindekiler \n",
    "* Makine Öğrenmesi Nedir ? \n",
    "* Makine Öğrenmesi Algoritmaları Nelerdir ? \n",
    "* Denetimli(Supervised) Öğrenme\n",
    "* Denetimsiz(Unsupervised) Öğrenme\n",
    "* Karar Ağacı Nedir ?"
   ]
  },
  {
   "cell_type": "markdown",
   "metadata": {},
   "source": [
    "## Makine Öğrenmesi Nedir?"
   ]
  },
  {
   "cell_type": "markdown",
   "metadata": {},
   "source": [
    "Yapay zekanın bir dalı olan makine öğrenmesi bilgisayarın örnek veriler üzerinden farklı kalıplara göre öğrenip tahminlerde bulunmasıdır.Bu tahminleri yapmak için mevcut verileri işleyerek karmaşık ilişkilerin bir hesaplama modelini otomatik olarak oluşturabilen teknikler sağlar.Model oluşturmanın otomatik sürecine “eğitim”, eğitim amacıyla kullanılan verilere ise “eğitim verileri” adı verilir."
   ]
  },
  {
   "cell_type": "markdown",
   "metadata": {},
   "source": [
    "## Makine Öğrenmesi Algoritmaları Nelerdir?"
   ]
  },
  {
   "cell_type": "markdown",
   "metadata": {},
   "source": [
    "Makine öğrenimi teknikleri, çıktı değerlerinin eğitim verilerinde bulunmasının gerekip gerekmediğine bağlı olarak genel olarak iki ana kategoride sınıflandırılabilir."
   ]
  },
  {
   "cell_type": "markdown",
   "metadata": {},
   "source": [
    "## Denetimli(Supervised) Öğrenme"
   ]
  },
  {
   "cell_type": "markdown",
   "metadata": {},
   "source": [
    "Denetimli öğrenme yöntemleri, her eğitim örneğinin bilinmesi için çıktı değişkeninin değerini gerektirir. Sonuç olarak, her eğitim örneği bir çift girdi ve çıktı değeri şeklinde gelir. Algoritma daha sonra süreçte tanımlanan özellikleri kullanarak girdi değişkenlerinden çıktı değişkenlerinin değerini tahmin eden bir model oluşturur."
   ]
  },
  {
   "cell_type": "markdown",
   "metadata": {},
   "source": [
    "## Denetimsiz(Unsupervised) Öğrenme"
   ]
  },
  {
   "cell_type": "markdown",
   "metadata": {},
   "source": [
    "Denetimsiz öğrenme teknikleri, eğitim verilerindeki yalnızca giriş özelliği değerlerini gerektirir ve öğrenme algoritması, bunlara dayalı olarak eğitim verilerindeki gizli yapıyı keşfeder ve benzerliklerine göre bir gruplama işlemi yapar. Verileri tutarlı gruplara ayırmaya çalışan kümeleme(Clustering) teknikleri bu kategoriye girer."
   ]
  },
  {
   "cell_type": "markdown",
   "metadata": {},
   "source": [
    "## Karar Ağacı (Decision Tree)"
   ]
  },
  {
   "cell_type": "markdown",
   "metadata": {},
   "source": [
    "Karar Ağacı bir denetimli öğrenme algoritmasıdır. Genellikle Regression ve Sınıflandırma için kullanılır. Karar ağacı, bir özniteliği seçip bir soru sorduğumuz yeri temsil eden düğümleri olan ağaç benzeri bir grafiktir; kenarlar sorunun yanıtlarını temsil eder; ve yapraklar gerçek çıktıyı veya sınıf etiketini temsil eder."
   ]
  },
  {
   "cell_type": "markdown",
   "metadata": {},
   "source": [
    "Verilere ve kurulacak algoritmaya göre bir karar ağacı oluşturulur. Bu karar ağaçları verileri daha küçük alt kümelere bölerler ve bir grafik şeklinde tek tek seçenekleri sunar ve çıkan cevaba göre o daldan ilerleme yaparlar."
   ]
  },
  {
   "cell_type": "markdown",
   "metadata": {},
   "source": [
    "Daha iyi anlaşılması için bir kaç örnek ve görselleştirme yapalım."
   ]
  },
  {
   "cell_type": "markdown",
   "metadata": {},
   "source": [
    "### Örnek Seneryo"
   ]
  },
  {
   "cell_type": "markdown",
   "metadata": {},
   "source": [
    "Hızlı ve kolay bir örnek için çok basit bir örnek yapalım.Bu veriseti günlük hayatımızdan bir örnek olsun.Varsayalım ki bir alışveriş yapmak istiyoruz.Alacağımız ürün belli fakat bu ürünü alıp almamak konusunda kararsız kaldık.Bunu bir takım sorular ile kendimize alıp almamak konusunda bir çıkarım yapabiliriz."
   ]
  },
  {
   "cell_type": "code",
   "execution_count": 9,
   "metadata": {},
   "outputs": [
    {
     "data": {
      "image/png": "[encoded data removed]",
      "text/plain": [
       "<IPython.core.display.Image object>"
      ]
     },
     "execution_count": 9,
     "metadata": {},
     "output_type": "execute_result"
    }
   ],
   "source": [
    "from IPython.display import Image\n",
    "Image(\"./dt.png\")"
   ]
  },
  {
   "cell_type": "markdown",
   "metadata": {},
   "source": [
    "Yukarıda resimde de göründüğü üzere belli koşullara göre baştan sonra verilen cevaplar ile bir algoritma (model) ile ürünü alıp almamaya karar verebiliriz."
   ]
  },
  {
   "cell_type": "markdown",
   "metadata": {},
   "source": [
    "Bir karar ağacı için genel bir algoritma aşağıdaki gibi tanımlanabilir:\n",
    "\n",
    "* En iyi özelliği/niteliği seçin.\n",
    "* İlgili soruyu sorun.\n",
    "* Cevap yolunu takip edin.\n",
    "* Yanıta ulaşana kadar 1. adıma gidin."
   ]
  },
  {
   "cell_type": "markdown",
   "metadata": {},
   "source": [
    "## Avantajları ve Dezavantajları"
   ]
  },
  {
   "cell_type": "markdown",
   "metadata": {},
   "source": [
    "Karar ağaçlarının avantajları şunlardır: "
   ]
  },
  {
   "cell_type": "markdown",
   "metadata": {},
   "source": [
    "* Kullanımı ve anlaşılması kolaydır. \n",
    "* Hem kategorik hem de sayısal verileri işleyebilir. \n",
    "* Aykırı değerlere karşı dayanıklıdır, dolayısıyla çok az veri ön işleme gerektirir.\n",
    "* Yeni özellikler kolayca eklenebilir."
   ]
  },
  {
   "cell_type": "markdown",
   "metadata": {},
   "source": [
    "Karar ağaçlarının dezavantajları şunlardır: "
   ]
  },
  {
   "cell_type": "markdown",
   "metadata": {},
   "source": [
    "* Aşırı uymaya (overfitting) eğilimlidir.\n",
    "* Ne kadar iyi yaptıklarına dair bir tür ölçüm gerektir.\n",
    "* Parametre ayarlama konusunda dikkatli olunması gerekir.\n",
    "* Bazı sınıfların baskın olması durumunda yanlı öğrenilmiş ağaçlar oluşturabilir."
   ]
  },
  {
   "cell_type": "markdown",
   "metadata": {},
   "source": [
    "### KAYNAKLAR"
   ]
  },
  {
   "cell_type": "markdown",
   "metadata": {},
   "source": [
    "https://www.hackerearth.com/practice/machine-learning/machine-learning-algorithms/ml-decision-tree/tutorial/"
   ]
  }
 ],
 "metadata": {
  "kernelspec": {
   "display_name": "Python 3",
   "language": "python",
   "name": "python3"
  },
  "language_info": {
   "codemirror_mode": {
    "name": "ipython",
    "version": 3
   },
   "file_extension": ".py",
   "mimetype": "text/x-python",
   "name": "python",
   "nbconvert_exporter": "python",
   "pygments_lexer": "ipython3",
   "version": "3.7.8"
  }
 },
 "nbformat": 4,
 "nbformat_minor": 4
}
